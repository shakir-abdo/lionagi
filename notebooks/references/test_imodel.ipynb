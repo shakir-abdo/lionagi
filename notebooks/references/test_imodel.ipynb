{
 "cells": [
  {
   "cell_type": "code",
   "execution_count": 1,
   "metadata": {},
   "outputs": [],
   "source": [
    "from lionagi.service.imodel import iModel"
   ]
  },
  {
   "cell_type": "markdown",
   "metadata": {},
   "source": [
    "### Using AI Models"
   ]
  },
  {
   "cell_type": "markdown",
   "metadata": {},
   "source": [
    "### OpenRouter"
   ]
  },
  {
   "cell_type": "code",
   "execution_count": 2,
   "metadata": {},
   "outputs": [],
   "source": [
    "deepseek_config = {\n",
    "    \"provider\": \"openrouter\",\n",
    "    \"model\": \"deepseek/deepseek-chat\",\n",
    "    \"api_key\": \"OPENROUTER_API_KEY\",\n",
    "    \"endpoint\": \"chat/completions\",\n",
    "}"
   ]
  },
  {
   "cell_type": "code",
   "execution_count": 3,
   "metadata": {},
   "outputs": [],
   "source": [
    "deepseek = iModel(**deepseek_config)"
   ]
  },
  {
   "cell_type": "code",
   "execution_count": 4,
   "metadata": {},
   "outputs": [
    {
     "name": "stdout",
     "output_type": "stream",
     "text": [
      "The meaning of life is a profound and often subjective question that has been explored by philosophers, theologians, scientists, and individuals throughout history. Different perspectives offer various interpretations:\n",
      "\n",
      "1. **Philosophical Perspectives**:\n",
      "   - **Existentialism**: Suggests that life has no inherent meaning, and it is up to each individual to create their own purpose.\n",
      "   - **Stoicism**: Emphasizes living in accordance with nature and focusing on virtue and self-control.\n",
      "   - **Utilitarianism**: Proposes that the meaning of life is to maximize happiness and minimize suffering for the greatest number of people.\n",
      "\n",
      "2. **Religious and Spiritual Perspectives**:\n",
      "   - **Christianity**: Often views the meaning of life as loving God and others, and preparing for eternal life.\n",
      "   - **Buddhism**: Focuses on achieving enlightenment and liberation from suffering through the Eightfold Path.\n",
      "   - **Hinduism**: Suggests that life's purpose is to achieve Dharma (duty), Artha (wealth), Kama (desire), and Moksha (liberation).\n",
      "\n",
      "3. **Scientific Perspectives**:\n",
      "   - **Biological**: From a purely biological standpoint, the meaning of life could be seen as survival and reproduction, ensuring the continuation of one's genes.\n",
      "   - **Cosmological**: Some scientists explore the idea that life is a natural outcome of the universe's complexity, with meaning derived from the pursuit of knowledge and understanding.\n",
      "\n",
      "4. **Personal Perspectives**:\n",
      "   - Many people find meaning through personal relationships, achievements, creativity, and contributing to the well-being of others.\n",
      "\n",
      "Ultimately, the meaning of life is a deeply personal question, and the answer may vary widely from one individual to another. It often involves a combination of introspection, exploration, and the experiences one accumulates over time."
     ]
    }
   ],
   "source": [
    "messages = [\n",
    "    {\"role\": \"user\", \"content\": \"What is the meaning of life?\"},\n",
    "]\n",
    "\n",
    "a = await deepseek.stream(messages=messages)"
   ]
  },
  {
   "cell_type": "code",
   "execution_count": 5,
   "metadata": {},
   "outputs": [],
   "source": [
    "anthropic_config = {\n",
    "    \"provider\": \"anthropic\",\n",
    "    \"model\": \"claude-3-5-sonnet-20241022\",\n",
    "    \"api_key\": \"ANTHROPIC_API_KEY\",\n",
    "    \"max_tokens\": 100,\n",
    "    \"endpoint\": \"messages\",\n",
    "}"
   ]
  },
  {
   "cell_type": "code",
   "execution_count": 6,
   "metadata": {},
   "outputs": [],
   "source": [
    "# by default we use end point provider: litellm\n",
    "# because it gives us pydantic output from model response\n",
    "lite_sonnet = iModel(\n",
    "    # invoke_with_endpoint=True,\n",
    "    **anthropic_config\n",
    ")\n",
    "\n",
    "# or just use regular aiohttp client\n",
    "sonnet = iModel(\n",
    "    invoke_with_endpoint=False,\n",
    "    **anthropic_config,\n",
    ")"
   ]
  },
  {
   "cell_type": "code",
   "execution_count": 7,
   "metadata": {},
   "outputs": [
    {
     "name": "stdout",
     "output_type": "stream",
     "text": [
      "That's one of humanity's most enduring and profound questions. While there's no single universal answer, people find meaning through many different paths: relationships, purpose-driven work, personal growth, helping others, creative expression, or spiritual beliefs. I aim to explore questions like this thoughtfully while acknowledging their complexity."
     ]
    }
   ],
   "source": [
    "messages = [\n",
    "    {\"role\": \"user\", \"content\": \"What is the meaning of life?\"},\n",
    "]\n",
    "\n",
    "a = await sonnet.stream(messages=messages)\n",
    "# b = await lite_sonnet.invoke(messages=messages)"
   ]
  },
  {
   "cell_type": "code",
   "execution_count": 8,
   "metadata": {},
   "outputs": [
    {
     "data": {
      "text/plain": [
       "[ModelResponseStream(id='chatcmpl-8a6962e2-7018-47b6-aff0-9f5d2ac50478', created=1735925555, model='claude-3-5-sonnet-20241022', object='chat.completion.chunk', system_fingerprint=None, choices=[StreamingChoices(finish_reason=None, index=0, delta=Delta(content='That', role='assistant', function_call=None, tool_calls=None, audio=None), logprobs=None)], stream_options=None),\n",
       " ModelResponseStream(id='chatcmpl-8a6962e2-7018-47b6-aff0-9f5d2ac50478', created=1735925555, model='claude-3-5-sonnet-20241022', object='chat.completion.chunk', system_fingerprint=None, choices=[StreamingChoices(finish_reason=None, index=0, delta=Delta(content=\"'s one of humanity's most en\", role=None, function_call=None, tool_calls=None, audio=None), logprobs=None)], stream_options=None),\n",
       " ModelResponseStream(id='chatcmpl-8a6962e2-7018-47b6-aff0-9f5d2ac50478', created=1735925555, model='claude-3-5-sonnet-20241022', object='chat.completion.chunk', system_fingerprint=None, choices=[StreamingChoices(finish_reason=None, index=0, delta=Delta(content=\"during and profound questions. While there's no single universal\", role=None, function_call=None, tool_calls=None, audio=None), logprobs=None)], stream_options=None),\n",
       " ModelResponseStream(id='chatcmpl-8a6962e2-7018-47b6-aff0-9f5d2ac50478', created=1735925555, model='claude-3-5-sonnet-20241022', object='chat.completion.chunk', system_fingerprint=None, choices=[StreamingChoices(finish_reason=None, index=0, delta=Delta(content=' answer, people find meaning through many different paths', role=None, function_call=None, tool_calls=None, audio=None), logprobs=None)], stream_options=None),\n",
       " ModelResponseStream(id='chatcmpl-8a6962e2-7018-47b6-aff0-9f5d2ac50478', created=1735925555, model='claude-3-5-sonnet-20241022', object='chat.completion.chunk', system_fingerprint=None, choices=[StreamingChoices(finish_reason=None, index=0, delta=Delta(content=': relationships, purpose-driven work, personal growth', role=None, function_call=None, tool_calls=None, audio=None), logprobs=None)], stream_options=None),\n",
       " ModelResponseStream(id='chatcmpl-8a6962e2-7018-47b6-aff0-9f5d2ac50478', created=1735925555, model='claude-3-5-sonnet-20241022', object='chat.completion.chunk', system_fingerprint=None, choices=[StreamingChoices(finish_reason=None, index=0, delta=Delta(content=', helping others, creative expression, or', role=None, function_call=None, tool_calls=None, audio=None), logprobs=None)], stream_options=None),\n",
       " ModelResponseStream(id='chatcmpl-8a6962e2-7018-47b6-aff0-9f5d2ac50478', created=1735925556, model='claude-3-5-sonnet-20241022', object='chat.completion.chunk', system_fingerprint=None, choices=[StreamingChoices(finish_reason=None, index=0, delta=Delta(content=' spiritual beliefs. I aim to explore', role=None, function_call=None, tool_calls=None, audio=None), logprobs=None)], stream_options=None),\n",
       " ModelResponseStream(id='chatcmpl-8a6962e2-7018-47b6-aff0-9f5d2ac50478', created=1735925556, model='claude-3-5-sonnet-20241022', object='chat.completion.chunk', system_fingerprint=None, choices=[StreamingChoices(finish_reason=None, index=0, delta=Delta(content=' questions like this thoughtfully while acknowledging their', role=None, function_call=None, tool_calls=None, audio=None), logprobs=None)], stream_options=None),\n",
       " ModelResponseStream(id='chatcmpl-8a6962e2-7018-47b6-aff0-9f5d2ac50478', created=1735925556, model='claude-3-5-sonnet-20241022', object='chat.completion.chunk', system_fingerprint=None, choices=[StreamingChoices(finish_reason=None, index=0, delta=Delta(content=' complexity.', role=None, function_call=None, tool_calls=None, audio=None), logprobs=None)], stream_options=None),\n",
       " ModelResponseStream(id='chatcmpl-8a6962e2-7018-47b6-aff0-9f5d2ac50478', created=1735925556, model='claude-3-5-sonnet-20241022', object='chat.completion.chunk', system_fingerprint=None, choices=[StreamingChoices(finish_reason='stop', index=0, delta=Delta(content=None, role=None, function_call=None, tool_calls=None, audio=None), logprobs=None)], stream_options=None)]"
      ]
     },
     "execution_count": 8,
     "metadata": {},
     "output_type": "execute_result"
    }
   ],
   "source": [
    "a.response"
   ]
  }
 ],
 "metadata": {
  "kernelspec": {
   "display_name": ".venv",
   "language": "python",
   "name": "python3"
  },
  "language_info": {
   "codemirror_mode": {
    "name": "ipython",
    "version": 3
   },
   "file_extension": ".py",
   "mimetype": "text/x-python",
   "name": "python",
   "nbconvert_exporter": "python",
   "pygments_lexer": "ipython3",
   "version": "3.12.8"
  }
 },
 "nbformat": 4,
 "nbformat_minor": 2
}
