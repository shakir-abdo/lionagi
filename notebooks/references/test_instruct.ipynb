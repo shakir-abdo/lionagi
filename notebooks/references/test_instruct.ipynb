{
 "cells": [
  {
   "cell_type": "code",
   "execution_count": 1,
   "metadata": {},
   "outputs": [],
   "source": [
    "from lionagi import Branch, ops_types, iModel"
   ]
  },
  {
   "cell_type": "code",
   "execution_count": 2,
   "metadata": {},
   "outputs": [],
   "source": [
    "from pydantic import BaseModel\n",
    "\n",
    "\n",
    "class CodingQuestion(BaseModel):\n",
    "    question: str\n",
    "    evaluation_criteria: str"
   ]
  },
  {
   "cell_type": "code",
   "execution_count": 3,
   "metadata": {},
   "outputs": [],
   "source": [
    "branch = Branch()"
   ]
  },
  {
   "cell_type": "code",
   "execution_count": 4,
   "metadata": {},
   "outputs": [],
   "source": [
    "instruct = ops_types.Instruct(\n",
    "    instruction=\"Concisely, Give me some ideas on fastapi coding questions\",\n",
    "    context=\"we are hiring software engineers\",\n",
    "    reason=True,\n",
    ")"
   ]
  },
  {
   "cell_type": "code",
   "execution_count": 5,
   "metadata": {},
   "outputs": [
    {
     "name": "stderr",
     "output_type": "stream",
     "text": [
      "/Users/lion/lionagi/.venv/lib/python3.12/site-packages/pydantic/_internal/_config.py:345: UserWarning: Valid config keys have changed in V2:\n",
      "* 'fields' has been removed\n",
      "  warnings.warn(message, UserWarning)\n"
     ]
    }
   ],
   "source": [
    "a = await branch.operate(instruct, response_format=CodingQuestion)"
   ]
  },
  {
   "cell_type": "code",
   "execution_count": 6,
   "metadata": {},
   "outputs": [
    {
     "data": {
      "text/plain": [
       "{'question': 'Develop a simple FastAPI application with an endpoint that accepts a JSON payload containing a list of numbers. The endpoint should return a JSON response with the sum, average, and maximum of the numbers.',\n",
       " 'evaluation_criteria': 'The solution should demonstrate clear understanding of FastAPI structure, creation of endpoints, handling JSON requests, and returning a JSON response. Code readability, efficiency, and error handling will also be evaluated.',\n",
       " 'reason': {'title': 'FastAPI Proficiency',\n",
       "  'content': 'This question tests candidates on their ability to handle JSON input/output and create basic APIs, which are fundamental skills for a FastAPI developer.',\n",
       "  'confidence_score': 0.95}}"
      ]
     },
     "execution_count": 6,
     "metadata": {},
     "output_type": "execute_result"
    }
   ],
   "source": [
    "a.model_dump()"
   ]
  },
  {
   "cell_type": "code",
   "execution_count": null,
   "metadata": {},
   "outputs": [],
   "source": []
  }
 ],
 "metadata": {
  "kernelspec": {
   "display_name": ".venv",
   "language": "python",
   "name": "python3"
  },
  "language_info": {
   "codemirror_mode": {
    "name": "ipython",
    "version": 3
   },
   "file_extension": ".py",
   "mimetype": "text/x-python",
   "name": "python",
   "nbconvert_exporter": "python",
   "pygments_lexer": "ipython3",
   "version": "3.12.8"
  }
 },
 "nbformat": 4,
 "nbformat_minor": 2
}
