{
 "cells": [
  {
   "cell_type": "code",
   "execution_count": 1,
   "metadata": {},
   "outputs": [],
   "source": [
    "from lionagi import iModel, Branch\n",
    "\n",
    "system_prompt = (\n",
    "    \"You are a hilarious dragon hunter who responds in 10 words rhymes\"\n",
    ")\n",
    "hunter = Branch(name=\"hunter\", system=system_prompt)"
   ]
  },
  {
   "cell_type": "markdown",
   "metadata": {},
   "source": [
    "### Using OpenAI\n",
    "\n",
    "to use openai, you need to obtain an OpenAI API key, you can get one [here](https://openai.com/api/)\n",
    "\n",
    "1. save the key into your environment variables, either via a `.env` file or directly into your shell\n",
    "2. the default key name we check is \"OPENAI_API_KEY\", you can specify which environment variable to use by setting the `api_key` parameter iModel or Service setup"
   ]
  },
  {
   "cell_type": "code",
   "execution_count": 2,
   "metadata": {},
   "outputs": [],
   "source": [
    "# using openai's gpt-4o model\n",
    "\n",
    "gpt4o = iModel(\n",
    "    provider=\"openai\",\n",
    "    task=\"chat\",  # chat/completions is the default endpoint\n",
    "    model=\"gpt-4o\",\n",
    "    # api_key=\"OPENAI_API_KEY\",     # change to \"OPENAI_API_KEY_DEV\" for example\n",
    ")"
   ]
  },
  {
   "cell_type": "code",
   "execution_count": 3,
   "metadata": {},
   "outputs": [
    {
     "name": "stdout",
     "output_type": "stream",
     "text": [
      "Hello, magnificent dragon! How may I assist you today? Are you in need of some grand tales, treasure management tips, or perhaps some fire-breathing techniques?\n"
     ]
    }
   ],
   "source": [
    "# regular chat\n",
    "a = await hunter.communicate(instruction=\"I am a dragon\", imodel=gpt4o)\n",
    "\n",
    "print(a)"
   ]
  },
  {
   "cell_type": "code",
   "execution_count": 4,
   "metadata": {},
   "outputs": [],
   "source": [
    "from pydantic import BaseModel\n",
    "\n",
    "\n",
    "class Joke(BaseModel):\n",
    "    joke: str"
   ]
  },
  {
   "cell_type": "markdown",
   "metadata": {},
   "source": [
    "Structured output"
   ]
  },
  {
   "cell_type": "code",
   "execution_count": 5,
   "metadata": {},
   "outputs": [],
   "source": [
    "b = await hunter.communicate(\n",
    "    instruction=\"I am a dragon\",\n",
    "    imodel=gpt4o,\n",
    "    response_format=Joke,\n",
    ")"
   ]
  },
  {
   "cell_type": "code",
   "execution_count": 6,
   "metadata": {},
   "outputs": [
    {
     "name": "stdout",
     "output_type": "stream",
     "text": [
      "<class '__main__.Joke'>\n"
     ]
    },
    {
     "data": {
      "text/plain": [
       "Joke(joke=\"Why did the dragon cross the road? To prove he wasn't a chicken!\")"
      ]
     },
     "execution_count": 6,
     "metadata": {},
     "output_type": "execute_result"
    }
   ],
   "source": [
    "print(type(b))\n",
    "b"
   ]
  },
  {
   "cell_type": "markdown",
   "metadata": {},
   "source": [
    "### Structured output with Claude sonnet\n",
    "\n",
    "LionAGI applies model-agnostic structured output, even if certain models don't provide built-in structured output we can have lionagi to take care of it.\n",
    "\n",
    "similarly, you need to an anthropic api key, which can you obtain [here](https://www.anthropic.com/)"
   ]
  },
  {
   "cell_type": "code",
   "execution_count": 7,
   "metadata": {},
   "outputs": [],
   "source": [
    "sonnet = iModel(\n",
    "    provider=\"anthropic\",\n",
    "    model=\"claude-3-5-sonnet-20241022\",\n",
    "    max_tokens=1000,  # max_tokens is required for anthropic models\n",
    ")"
   ]
  },
  {
   "cell_type": "code",
   "execution_count": 8,
   "metadata": {},
   "outputs": [],
   "source": [
    "c = await hunter.communicate(\n",
    "    instruction=\"I am a dragon\",\n",
    "    response_format=Joke,  # structured output in given pydantic model\n",
    "    clear_messages=True,  # refresh the conversation\n",
    "    imodel=sonnet,  # use sonnet model\n",
    ")"
   ]
  },
  {
   "cell_type": "code",
   "execution_count": 9,
   "metadata": {},
   "outputs": [
    {
     "data": {
      "text/plain": [
       "Joke(joke=\"Why don't dragons tell jokes? Because they always dragon too long!\")"
      ]
     },
     "execution_count": 9,
     "metadata": {},
     "output_type": "execute_result"
    }
   ],
   "source": [
    "c"
   ]
  },
  {
   "cell_type": "markdown",
   "metadata": {},
   "source": [
    "### Query internet with Perplexity\n",
    "\n",
    "you need to get an api key [here](https://docs.perplexity.ai/home)"
   ]
  },
  {
   "cell_type": "code",
   "execution_count": 10,
   "metadata": {},
   "outputs": [],
   "source": [
    "pplx_small = iModel(\n",
    "    provider=\"perplexity\",\n",
    "    task=\"chat/completions\",\n",
    "    model=\"llama-3.1-sonar-small-128k-online\",\n",
    "    max_tokens=1000,\n",
    ")"
   ]
  },
  {
   "cell_type": "code",
   "execution_count": null,
   "metadata": {},
   "outputs": [],
   "source": []
  },
  {
   "cell_type": "code",
   "execution_count": 11,
   "metadata": {},
   "outputs": [],
   "source": [
    "b = await hunter.communicate(\n",
    "    instruction=\"What makes a well-behaved dragon?\",\n",
    "    clear_messages=True,  # refresh the conversation\n",
    "    imodel=pplx_small,  # use sonnet model\n",
    ")"
   ]
  },
  {
   "cell_type": "code",
   "execution_count": 12,
   "metadata": {},
   "outputs": [
    {
     "name": "stdout",
     "output_type": "stream",
     "text": [
      "A well-behaved dragon, whether it refers to the mythical creature or the bearded dragon species, can be described based on different contexts:\n",
      "\n",
      "### Mythical Dragon\n",
      "In the context of mythical dragons, a well-behaved dragon is one that exhibits qualities such as honesty, generosity, and uprightness. They are selfless and kind-hearted, always ready to help others. However, they also have defects like being impatient, intolerant, and demanding. A well-behaved mythical dragon would be one who balances these qualities, being frank and scrupulous while avoiding extreme impulsiveness and tactlessness[1].\n",
      "\n",
      "### Bearded Dragon\n",
      "For bearded dragons, a well-behaved pet is one that shows appropriate social and environmental behaviors. Here are some key indicators:\n",
      "\n",
      "- **Head Bobbing**: A common behavior that can indicate dominance, submission, or recognition of another dragon's presence. It can also be a sign of stress or fear if accompanied by other behaviors like bearding[2][5].\n",
      "- **Arm Waving**: A sign of submission or non-threatening behavior, often seen in younger or submissive dragons[2].\n",
      "- **Bearding**: Flaring out the skin around the throat can indicate stress, fear, or aggression. Understanding the context is crucial to address potential issues[2].\n",
      "- **Tail Twitching**: A sign of agitation or excitement, which could be a reaction to a perceived threat or interest in something in the environment[2].\n",
      "- **Basking**: Regulating body temperature by basking under a heat lamp is a normal behavior for bearded dragons[2].\n",
      "- **Puffing Up**: A defensive or territorial display that makes the dragon appear larger and more intimidating to potential threats or rivals[2].\n",
      "\n",
      "### General Traits\n",
      "In general, a well-behaved dragon, whether mythical or bearded, would be one that is aware of its surroundings, communicates effectively (even if it's through body language), and maintains a balance between its natural instincts and the needs of its environment. For mythical dragons, this means being honest and generous while avoiding extreme impulsiveness. For bearded dragons, it means exhibiting behaviors that indicate a healthy and contented state, such as basking and social interactions, while avoiding signs of stress like bearding or glass surfing[1][2].\n"
     ]
    }
   ],
   "source": [
    "print(b)"
   ]
  },
  {
   "cell_type": "code",
   "execution_count": 13,
   "metadata": {},
   "outputs": [
    {
     "data": {
      "text/plain": [
       "{'id': '68707842-eac8-4639-9eea-538370bd6e7c',\n",
       " 'created': 1736029868,\n",
       " 'model': 'perplexity/llama-3.1-sonar-small-128k-online',\n",
       " 'object': 'chat.completion',\n",
       " 'choices': [{'finish_reason': 'stop',\n",
       "   'index': 0,\n",
       "   'message': {'content': \"A well-behaved dragon, whether it refers to the mythical creature or the bearded dragon species, can be described based on different contexts:\\n\\n### Mythical Dragon\\nIn the context of mythical dragons, a well-behaved dragon is one that exhibits qualities such as honesty, generosity, and uprightness. They are selfless and kind-hearted, always ready to help others. However, they also have defects like being impatient, intolerant, and demanding. A well-behaved mythical dragon would be one who balances these qualities, being frank and scrupulous while avoiding extreme impulsiveness and tactlessness[1].\\n\\n### Bearded Dragon\\nFor bearded dragons, a well-behaved pet is one that shows appropriate social and environmental behaviors. Here are some key indicators:\\n\\n- **Head Bobbing**: A common behavior that can indicate dominance, submission, or recognition of another dragon's presence. It can also be a sign of stress or fear if accompanied by other behaviors like bearding[2][5].\\n- **Arm Waving**: A sign of submission or non-threatening behavior, often seen in younger or submissive dragons[2].\\n- **Bearding**: Flaring out the skin around the throat can indicate stress, fear, or aggression. Understanding the context is crucial to address potential issues[2].\\n- **Tail Twitching**: A sign of agitation or excitement, which could be a reaction to a perceived threat or interest in something in the environment[2].\\n- **Basking**: Regulating body temperature by basking under a heat lamp is a normal behavior for bearded dragons[2].\\n- **Puffing Up**: A defensive or territorial display that makes the dragon appear larger and more intimidating to potential threats or rivals[2].\\n\\n### General Traits\\nIn general, a well-behaved dragon, whether mythical or bearded, would be one that is aware of its surroundings, communicates effectively (even if it's through body language), and maintains a balance between its natural instincts and the needs of its environment. For mythical dragons, this means being honest and generous while avoiding extreme impulsiveness. For bearded dragons, it means exhibiting behaviors that indicate a healthy and contented state, such as basking and social interactions, while avoiding signs of stress like bearding or glass surfing[1][2].\",\n",
       "    'role': 'assistant'}}],\n",
       " 'usage': {'completion_tokens': 465, 'prompt_tokens': 19, 'total_tokens': 484},\n",
       " 'citations': ['https://familyaffairsandothermatters.com/the-year-of-the-dragon-the-facts/',\n",
       "  'https://www.birdexoticsvet.com/post/understanding-bearded-dragon-behavior',\n",
       "  'https://storytellerkim.com/index.php/2021/01/15/writing-about-dragons-balancing-convention-and-creativity/',\n",
       "  'https://www.travelchinaguide.com/intro/social_customs/zodiac/dragon/five-elements.htm',\n",
       "  'https://dragonsdiet.com/blogs/dragon-care/15-bearded-dragon-behaviors-and-what-they-could-mean']}"
      ]
     },
     "execution_count": 13,
     "metadata": {},
     "output_type": "execute_result"
    }
   ],
   "source": [
    "hunter.msgs.last_response.model_response"
   ]
  },
  {
   "cell_type": "code",
   "execution_count": null,
   "metadata": {},
   "outputs": [],
   "source": []
  }
 ],
 "metadata": {
  "kernelspec": {
   "display_name": ".venv",
   "language": "python",
   "name": "python3"
  },
  "language_info": {
   "codemirror_mode": {
    "name": "ipython",
    "version": 3
   },
   "file_extension": ".py",
   "mimetype": "text/x-python",
   "name": "python",
   "nbconvert_exporter": "python",
   "pygments_lexer": "ipython3",
   "version": "3.12.8"
  }
 },
 "nbformat": 4,
 "nbformat_minor": 2
}
